{
 "cells": [
  {
   "cell_type": "markdown",
   "metadata": {},
   "source": [
    "# From illusory randomness to quantum power: how quantum computing redefines randomness and revolutionises machine learning with QSVM\n",
    "\n",
    "### Explore how quantum computing overcomes the limitations of classical random number generation, opening new frontiers in security, simulation and machine learning. From true randomness to the implementation of QSVM, discover how this new quantum paradigm is transforming machine learning and revolutionising artificial intelligence.\n",
    "\n",
    "-------\n",
    "\n",
    "Autor: Bruno Muñoz Marcos\n",
    "\n",
    "\n",
    "\n",
    "*Imagine a world where everything follows a predictable sequence, where uncertainty is just an illusion and nothing is truly random. This is the realm of classical computing, the mainstay of our digital age, where computers, governed by deterministic processes, face intrinsic limitations in generating genuine random numbers. Yet randomness is an essential concept for disciplines such as cryptography, the simulation of complex systems and, increasingly, artificial intelligence.\n",
    "How far can our classical computation go if it cannot even produce a truly unpredictable number? To transcend this limitation, we must enter a world where uncertainty is a fundamental feature: quantum mechanics. Here, particles exist in multiple states simultaneously, and measurement itself affects the system, introducing a source of true randomness. It is in this domain that quantum computing has the potential to radically change our capabilities, from random number generation to the revolution in machine learning and artificial intelligence.*"
   ]
  },
  {
   "cell_type": "markdown",
   "metadata": {},
   "source": [
    "## "
   ]
  },
  {
   "cell_type": "code",
   "execution_count": 27,
   "metadata": {},
   "outputs": [],
   "source": [
    "# Qiskit: essential elements\n",
    "from qiskit import QuantumCircuit, transpile\n",
    "from qiskit_aer import AerSimulator\n",
    "from qiskit.primitives import BackendSampler\n",
    "\n",
    "# Qiskit IBM Runtime\n",
    "from qiskit_ibm_runtime import QiskitRuntimeService, Session\n",
    "from qiskit_ibm_runtime import SamplerV2 as Sampler\n",
    "\n",
    "# Qiskit Machine Learning\n",
    "from qiskit_machine_learning.kernels import FidelityQuantumKernel\n",
    "from qiskit.circuit.library import ZZFeatureMap\n",
    "\n",
    "# Scikit-learn utilities\n",
    "from sklearn.datasets import make_classification\n",
    "from sklearn.model_selection import train_test_split\n",
    "from sklearn import svm\n",
    "from sklearn.svm import SVC\n",
    "from sklearn.metrics import accuracy_score\n",
    "\n",
    "# NumPy and Matplotlib\n",
    "import numpy as np\n",
    "import matplotlib.pyplot as plt\n"
   ]
  },
  {
   "cell_type": "markdown",
   "metadata": {},
   "source": [
    "## Pseudo-random numbers generator"
   ]
  },
  {
   "cell_type": "code",
   "execution_count": null,
   "metadata": {},
   "outputs": [],
   "source": [
    "def lcg(a, c, m, seed, n):\n",
    "    \"\"\"Linear Congruential Generator (LCG).\n",
    "\n",
    "    Args:\n",
    "        a (int): Multiplier.\n",
    "        c (int): Increment.\n",
    "        m (int): Modulus.\n",
    "        seed (int): Initial seed.\n",
    "        n (int): Number of numbers to generate.\n",
    "\n",
    "    Returns:\n",
    "        list: List of pseudo-random numbers in [0, 1).\n",
    "    \"\"\"\n",
    "    x = seed\n",
    "    random_numbers = []\n",
    "    for _ in range(n):\n",
    "        x = (a * x + c) % m\n",
    "        random_numbers.append(x / m)\n",
    "    return random_numbers\n",
    "\n",
    "# LCG parameters\n",
    "a = 1103515245\n",
    "c = 12345\n",
    "m = 2**31\n",
    "seed = 42\n",
    "n = 10\n",
    "\n",
    "# Generating pseudo-random numbers\n",
    "random_numbers = lcg(a, c, m, seed, n)\n",
    "print(\"Generated pseudo-random numbers:\")\n",
    "for num in random_numbers:\n",
    "    print(num)\n"
   ]
  },
  {
   "cell_type": "markdown",
   "metadata": {},
   "source": [
    "## Quantum random numbers generator"
   ]
  },
  {
   "cell_type": "markdown",
   "metadata": {},
   "source": [
    "### With simulator:"
   ]
  },
  {
   "cell_type": "code",
   "execution_count": null,
   "metadata": {},
   "outputs": [],
   "source": [
    "def generate_n_qubit_random_numbers(n_qubits, n_numbers):\n",
    "    \"\"\"Generates random numbers of n bits using n qubits.\"\"\"\n",
    "    simulator = AerSimulator()  \n",
    "    random_numbers = []\n",
    "\n",
    "    for _ in range(n_numbers):\n",
    "        qc = QuantumCircuit(n_qubits, n_qubits)\n",
    "        qc.h(range(n_qubits)) \n",
    "        qc.measure(range(n_qubits), range(n_qubits)) \n",
    "        job = simulator.run(qc, shots=1, memory=True)\n",
    "        result = job.result()\n",
    "        measured_bits = result.get_memory()[0]\n",
    "        random_number = int(measured_bits, 2)\n",
    "        random_numbers.append(random_number)\n",
    "\n",
    "    return random_numbers\n",
    "\n",
    "# Generate 5 random numbers with 4 qubits\n",
    "n_qubits = 6\n",
    "n_numbers = 100000\n",
    "random_numbers = generate_n_qubit_random_numbers(n_qubits, n_numbers)\n",
    "print(\"Generated random numbers:\")\n",
    "print(random_numbers)\n"
   ]
  },
  {
   "cell_type": "code",
   "execution_count": null,
   "metadata": {},
   "outputs": [],
   "source": [
    "plt.figure(figsize=(10, 6))\n",
    "plt.hist(random_numbers, bins=10, color='skyblue', edgecolor='black')\n",
    "plt.title(\"Histogram of random numbers generated by simulator\")\n",
    "plt.xlabel(\"Values\")\n",
    "plt.ylabel(\"Frequency\")\n",
    "plt.grid(axis='y', linestyle='--', alpha=0.7)\n",
    "plt.savefig('foto.png')\n",
    "plt.show()"
   ]
  },
  {
   "cell_type": "markdown",
   "metadata": {},
   "source": [
    "### With real quantum computer:"
   ]
  },
  {
   "cell_type": "code",
   "execution_count": 3,
   "metadata": {},
   "outputs": [],
   "source": [
    "# Initialising the IBM Quantum service\n",
    "service = QiskitRuntimeService(\n",
    "    channel='ibm_quantum',\n",
    "    instance='ibm-q/open/main',\n",
    "    token='put here your own token'\n",
    ")\n",
    "\n",
    "n_qubits = 6\n",
    "n_numbers = 100000\n",
    "\n",
    "# Selecting a quantum backend with at least n qubits\n",
    "backend = service.least_busy(operational=True, simulator=False, min_num_qubits=127)\n",
    "\n",
    "random_numbers = []\n",
    "results =[] \n",
    "\n",
    "# Create a quantum circuit with n qubits and classical bits for measurement\n",
    "qc = QuantumCircuit(n_qubits, n_qubits)\n",
    "\n",
    "# Apply Hadamard gates to put qubits in superposition\n",
    "qc.h(range(n_qubits))\n",
    "\n",
    "# Measure all the qubits and store the results in the classical bits\n",
    "qc.measure(range(n_qubits), range(n_qubits))\n",
    "\n",
    "# Transpiling the circuit to be compatible with the selected backend\n",
    "qc_transpiled = transpile(qc, backend=backend)\n",
    "\n",
    "# Use the sampler within a session to execute the transpiled circuit\n",
    "sampler = Sampler(mode=backend)  \n",
    "job = sampler.run([qc_transpiled], shots=n_numbers)\n",
    "\n",
    "# Obtain the results of the work\n",
    "result = job.result()\n",
    "    "
   ]
  },
  {
   "cell_type": "code",
   "execution_count": null,
   "metadata": {},
   "outputs": [],
   "source": [
    "random_numbers = result[0].data.c.get_int_counts()"
   ]
  },
  {
   "cell_type": "code",
   "execution_count": null,
   "metadata": {},
   "outputs": [],
   "source": [
    "numbers = list(random_numbers.keys())\n",
    "counts = list(random_numbers.values())\n",
    "\n",
    "plt.figure(figsize=(10, 6))\n",
    "plt.hist(numbers, bins=10, weights=counts, color='skyblue', edgecolor='black')\n",
    "plt.title(\"Histogram of random numbers generated by quantum computer\")\n",
    "plt.xlabel(\"Values\")\n",
    "plt.ylabel(\"Frequency\")\n",
    "plt.grid(axis='y', linestyle='--', alpha=0.7)\n",
    "plt.show()"
   ]
  },
  {
   "cell_type": "markdown",
   "metadata": {},
   "source": [
    "## Machine Learning: Classical SVM"
   ]
  },
  {
   "cell_type": "code",
   "execution_count": null,
   "metadata": {},
   "outputs": [],
   "source": [
    "# Generation of a synthetic dataset\n",
    "X, y = make_classification(n_samples=200, n_features=2, n_redundant=0,\n",
    "                           n_informative=2, random_state=42, n_clusters_per_class=1)\n",
    "\n",
    "# Change labels from {0,1} to {-1,1}\n",
    "y = np.where(y == 0, -1, 1)\n",
    "\n",
    "# Split into training and test sets\n",
    "X_train, X_test, y_train, y_test = train_test_split(X, y, test_size=0.2)\n",
    "\n",
    "# Creation and training of the SVM model\n",
    "model = svm.SVC(kernel='linear', C=1.0)\n",
    "model.fit(X_train, y_train)\n",
    "\n",
    "# Model evaluation\n",
    "accuracy = model.score(X_test, y_test)\n",
    "print(f\"Accuracy on the test set: {accuracy * 100:.2f}%\")\n",
    "\n",
    "# Visualization of the data and the hyperplane\n",
    "def plot_svm(model, X, y):\n",
    "    plt.scatter(X[:, 0], X[:, 1], c=y, cmap='bwr', alpha=0.7)\n",
    "    ax = plt.gca()\n",
    "    xlim = ax.get_xlim()\n",
    "    ylim = ax.get_ylim()\n",
    "\n",
    "    # Create a grid to evaluate the model\n",
    "    xx = np.linspace(xlim[0], xlim[1], 30)\n",
    "    yy = np.linspace(ylim[0], ylim[1], 30)\n",
    "    YY, XX = np.meshgrid(yy, xx)\n",
    "    xy = np.vstack([XX.ravel(), YY.ravel()]).T\n",
    "    Z = model.decision_function(xy).reshape(XX.shape)\n",
    "\n",
    "    # Draw the hyperplane and margins\n",
    "    ax.contour(XX, YY, Z, colors='k', levels=[-1, 0, 1], alpha=0.7,\n",
    "               linestyles=['--', '-', '--'])\n",
    "    plt.savefig('SVM.png')\n",
    "    plt.show()\n",
    "\n",
    "\n",
    "plot_svm(model, X_train, y_train)\n"
   ]
  },
  {
   "cell_type": "markdown",
   "metadata": {},
   "source": [
    "## Quantum Machine Learning: QSVM"
   ]
  },
  {
   "cell_type": "code",
   "execution_count": null,
   "metadata": {},
   "outputs": [],
   "source": [
    "# 1. Generate a synthetic dataset for binary classification\n",
    "num_samples = 50\n",
    "rng = np.random.default_rng(seed=42)\n",
    "X = rng.uniform(-1, 1, (num_samples, 2))\n",
    "y = np.where(X[:, 0] + X[:, 1] > 0, 1, -1)\n",
    "\n",
    "# Split the dataset into training and testing sets\n",
    "X_train, X_test, y_train, y_test = train_test_split(\n",
    "    X, y, test_size=0.2, random_state=42\n",
    ")\n",
    "\n",
    "\n",
    "# 2. Define a quantum feature map\n",
    "feature_dimension = 2\n",
    "repetitions = 2\n",
    "feature_map = ZZFeatureMap(feature_dimension=feature_dimension, reps=repetitions)\n",
    "\n",
    "\n",
    "# 3. Configure the backend and compute the kernel\n",
    "backend = AerSimulator(method='statevector')\n",
    "sampler = BackendSampler(backend=backend)\n",
    "quantum_kernel = FidelityQuantumKernel(feature_map=feature_map)\n",
    "\n",
    "# Compute the kernel matrices\n",
    "kernel_train = quantum_kernel.evaluate(X_train)\n",
    "kernel_test = quantum_kernel.evaluate(X_test, X_train)\n",
    "\n",
    "# 4. Train an SVM classifier with a precomputed kernel\n",
    "svc = SVC(kernel='precomputed')\n",
    "svc.fit(kernel_train, y_train)\n",
    "\n",
    "\n",
    "# 5. Evaluate the model on the test set\n",
    "y_pred = svc.predict(kernel_test)\n",
    "accuracy = accuracy_score(y_test, y_pred)\n",
    "\n",
    "print(\"SVC predictions on the test set:\", y_pred)\n",
    "print(\"True labels:\", y_test)\n",
    "print(\"Accuracy:\", accuracy)"
   ]
  }
 ],
 "metadata": {
  "kernelspec": {
   "display_name": "qiskit",
   "language": "python",
   "name": "python3"
  },
  "language_info": {
   "codemirror_mode": {
    "name": "ipython",
    "version": 3
   },
   "file_extension": ".py",
   "mimetype": "text/x-python",
   "name": "python",
   "nbconvert_exporter": "python",
   "pygments_lexer": "ipython3",
   "version": "3.8.15"
  }
 },
 "nbformat": 4,
 "nbformat_minor": 2
}
